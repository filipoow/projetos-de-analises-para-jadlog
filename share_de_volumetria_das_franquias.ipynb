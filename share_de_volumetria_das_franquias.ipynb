{
  "nbformat": 4,
  "nbformat_minor": 0,
  "metadata": {
    "colab": {
      "provenance": [],
      "authorship_tag": "ABX9TyNQ8rYwTLA9Ikv06y3SFtlC",
      "include_colab_link": true
    },
    "kernelspec": {
      "name": "python3",
      "display_name": "Python 3"
    },
    "language_info": {
      "name": "python"
    }
  },
  "cells": [
    {
      "cell_type": "markdown",
      "metadata": {
        "id": "view-in-github",
        "colab_type": "text"
      },
      "source": [
        "<a href=\"https://colab.research.google.com/github/filipoow/projetos-de-analises-para-jadlog/blob/main/share_de_volumetria_das_franquias.ipynb\" target=\"_parent\"><img src=\"https://colab.research.google.com/assets/colab-badge.svg\" alt=\"Open In Colab\"/></a>"
      ]
    },
    {
      "cell_type": "markdown",
      "source": [
        "![jadlog.png](data:image/png;base64,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)\n",
        "\n",
        "# Share de volumetria das franquias de um determinado período"
      ],
      "metadata": {
        "id": "Kq_4R_F4K4mF"
      }
    },
    {
      "cell_type": "markdown",
      "source": [
        "## Importando as bibliotecas"
      ],
      "metadata": {
        "id": "SpNboCVhL4OT"
      }
    },
    {
      "cell_type": "code",
      "source": [
        "import pandas as pd"
      ],
      "metadata": {
        "id": "ldqngmnQL2yN"
      },
      "execution_count": null,
      "outputs": []
    },
    {
      "cell_type": "markdown",
      "source": [
        "## Importando os dados para a análise\n",
        "\n",
        "### Bases que foram utilizadas:\n",
        "- Base Diarizado Completo\n",
        "- Base de Clientes"
      ],
      "metadata": {
        "id": "UQI_kfn6LtIw"
      }
    },
    {
      "cell_type": "code",
      "execution_count": null,
      "metadata": {
        "id": "Rj4nWfeXJznL"
      },
      "outputs": [],
      "source": [
        "base_de_clientes = pd.read_excel(r'bClientesCorr.xlsx')\n",
        "base_de_clientes.head()"
      ]
    },
    {
      "cell_type": "code",
      "source": [
        "base_de_dados = pd.concat(pd.read_excel(r'Base Diarizado completo.xlsx', sheet_name=None))\n",
        "base_de_dados.head()"
      ],
      "metadata": {
        "id": "pdiaQmnESGlc"
      },
      "execution_count": null,
      "outputs": []
    }
  ]
}