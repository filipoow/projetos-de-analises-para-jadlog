{
  "nbformat": 4,
  "nbformat_minor": 0,
  "metadata": {
    "colab": {
      "provenance": [],
      "authorship_tag": "ABX9TyNLVli/Em6bufzbLPcDDDdQ",
      "include_colab_link": true
    },
    "kernelspec": {
      "name": "python3",
      "display_name": "Python 3"
    },
    "language_info": {
      "name": "python"
    }
  },
  "cells": [
    {
      "cell_type": "markdown",
      "metadata": {
        "id": "view-in-github",
        "colab_type": "text"
      },
      "source": [
        "<a href=\"https://colab.research.google.com/github/filipoow/projetos-de-analises-para-jadlog/blob/main/conversor_de_arquivos_jupyter.ipynb\" target=\"_parent\"><img src=\"https://colab.research.google.com/assets/colab-badge.svg\" alt=\"Open In Colab\"/></a>"
      ]
    },
    {
      "cell_type": "markdown",
      "source": [
        "# **nbconvert**\n",
        "\n",
        "**The nbconvert tool allows you to convert a Jupyter .ipynb notebook file into another static format such as: HTML, LaTeX, PDF, Markdown and more.**"
      ],
      "metadata": {
        "id": "5QlHkNCfXUjU"
      }
    },
    {
      "cell_type": "markdown",
      "source": [
        "## Method I - Convert notebook to HTML then print as PDF"
      ],
      "metadata": {
        "id": "T4kCfinZXga0"
      }
    },
    {
      "cell_type": "code",
      "source": [
        "!jupyter nbconvert --to html /content/KNN.ipynb"
      ],
      "metadata": {
        "id": "_b_LDZ9XXqbX"
      },
      "execution_count": null,
      "outputs": []
    },
    {
      "cell_type": "markdown",
      "source": [
        "## Method II - Convert notebook directly as a PDF"
      ],
      "metadata": {
        "id": "zsZ_aHwxXj6_"
      }
    },
    {
      "cell_type": "code",
      "execution_count": null,
      "metadata": {
        "id": "p32ek_DkXK2k"
      },
      "outputs": [],
      "source": [
        "!sudo apt-get install texlive-xetex texlive-fonts-recommended texlive-plain-generic"
      ]
    },
    {
      "cell_type": "code",
      "source": [
        "!jupyter nbconvert --to pdf /content/KNN.ipynb"
      ],
      "metadata": {
        "id": "SGrugrjhXw0X"
      },
      "execution_count": null,
      "outputs": []
    }
  ]
}